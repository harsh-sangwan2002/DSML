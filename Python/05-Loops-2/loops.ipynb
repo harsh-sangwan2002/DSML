{
  "nbformat": 4,
  "nbformat_minor": 0,
  "metadata": {
    "colab": {
      "provenance": []
    },
    "kernelspec": {
      "name": "python3",
      "display_name": "Python 3"
    },
    "language_info": {
      "name": "python"
    }
  },
  "cells": [
    {
      "cell_type": "code",
      "execution_count": 1,
      "metadata": {
        "colab": {
          "base_uri": "https://localhost:8080/"
        },
        "id": "HxGqmRf03OAj",
        "outputId": "affd9f90-c636-4f39-92a5-cb63611a4d70"
      },
      "outputs": [
        {
          "output_type": "stream",
          "name": "stdout",
          "text": [
            "1, 4, 7, 10, 13, 16"
          ]
        }
      ],
      "source": [
        "# Write a loop to print the numbers - 1, 4, 7, 10, 13, 16\n",
        "for i in range(1,17,3):\n",
        "  if i==16:\n",
        "    print(i,end=\"\")\n",
        "  else:\n",
        "    print(i,end=\", \")"
      ]
    },
    {
      "cell_type": "code",
      "source": [
        "# Write a loop to print the numbers - 1, 3, 7, 13, 21, 32, 43\n",
        "num = 1\n",
        "i = 1\n",
        "while (num<=43):\n",
        "  print(num,end=' ')\n",
        "  num = num+2*i\n",
        "  i+=1"
      ],
      "metadata": {
        "colab": {
          "base_uri": "https://localhost:8080/"
        },
        "id": "gIZVV05o3sMX",
        "outputId": "0cd8db84-ccf7-43ec-e141-79aeed2762a1"
      },
      "execution_count": 2,
      "outputs": [
        {
          "output_type": "stream",
          "name": "stdout",
          "text": [
            "1 3 7 13 21 31 43 "
          ]
        }
      ]
    },
    {
      "cell_type": "code",
      "source": [
        "# Add On Functions\n",
        "for i in range(5):\n",
        "  if(i==3):\n",
        "    print(\"hahaha\")\n",
        "  print(i,\"bye bye\")"
      ],
      "metadata": {
        "id": "UJM--kjo4a_0",
        "colab": {
          "base_uri": "https://localhost:8080/"
        },
        "outputId": "26f2b931-37c2-425e-dc39-a1270bf31b8c"
      },
      "execution_count": 3,
      "outputs": [
        {
          "output_type": "stream",
          "name": "stdout",
          "text": [
            "0 bye bye\n",
            "1 bye bye\n",
            "2 bye bye\n",
            "hahaha\n",
            "3 bye bye\n",
            "4 bye bye\n"
          ]
        }
      ]
    },
    {
      "cell_type": "code",
      "source": [
        "# pass\n",
        "for i in range(5):\n",
        "  if(i==3):\n",
        "    pass\n",
        "  print(i,\"bye bye\")"
      ],
      "metadata": {
        "colab": {
          "base_uri": "https://localhost:8080/"
        },
        "id": "wZsfdXRoYhKk",
        "outputId": "0ca975c6-5979-461d-e0fa-58349646113f"
      },
      "execution_count": 4,
      "outputs": [
        {
          "output_type": "stream",
          "name": "stdout",
          "text": [
            "0 bye bye\n",
            "1 bye bye\n",
            "2 bye bye\n",
            "3 bye bye\n",
            "4 bye bye\n"
          ]
        }
      ]
    },
    {
      "cell_type": "code",
      "source": [
        "# continue\n",
        "for i in range(5):\n",
        "  if(i==3):\n",
        "    continue # skip the iteration\n",
        "  print(i,\"bye bye\")"
      ],
      "metadata": {
        "colab": {
          "base_uri": "https://localhost:8080/"
        },
        "id": "I4kV0ME0YkvG",
        "outputId": "989d3d8e-44a0-4c71-81b7-7168405aa70c"
      },
      "execution_count": 5,
      "outputs": [
        {
          "output_type": "stream",
          "name": "stdout",
          "text": [
            "0 bye bye\n",
            "1 bye bye\n",
            "2 bye bye\n",
            "4 bye bye\n"
          ]
        }
      ]
    },
    {
      "cell_type": "code",
      "source": [
        "# continue\n",
        "for i in range(5):\n",
        "  if(i==3):\n",
        "    break; # break out of the loop\n",
        "  print(i,\"bye bye\")"
      ],
      "metadata": {
        "colab": {
          "base_uri": "https://localhost:8080/"
        },
        "id": "G1He7_XsYmWe",
        "outputId": "e4a34c1b-ba13-4b3b-8251-fa4c3833e959"
      },
      "execution_count": 6,
      "outputs": [
        {
          "output_type": "stream",
          "name": "stdout",
          "text": [
            "0 bye bye\n",
            "1 bye bye\n",
            "2 bye bye\n"
          ]
        }
      ]
    },
    {
      "cell_type": "code",
      "source": [
        "# Nested loops\n",
        "for i in range(3):\n",
        "  for j in range(3):\n",
        "    print(\"i is: \",i,\"j is: \",j)"
      ],
      "metadata": {
        "colab": {
          "base_uri": "https://localhost:8080/"
        },
        "id": "a6jlkG05Y79z",
        "outputId": "2dd3b528-6ca8-440f-ead7-40e2314fe47d"
      },
      "execution_count": 7,
      "outputs": [
        {
          "output_type": "stream",
          "name": "stdout",
          "text": [
            "i is:  0 j is:  0\n",
            "i is:  0 j is:  1\n",
            "i is:  0 j is:  2\n",
            "i is:  1 j is:  0\n",
            "i is:  1 j is:  1\n",
            "i is:  1 j is:  2\n",
            "i is:  2 j is:  0\n",
            "i is:  2 j is:  1\n",
            "i is:  2 j is:  2\n"
          ]
        }
      ]
    },
    {
      "cell_type": "code",
      "source": [
        "for i in range(3):\n",
        "  for j in range(3):\n",
        "    print(\"*\",end=\" \")\n",
        "  print()"
      ],
      "metadata": {
        "colab": {
          "base_uri": "https://localhost:8080/"
        },
        "id": "El6syR5SZaV8",
        "outputId": "657714bf-43ce-4a5c-a269-d48d0d265620"
      },
      "execution_count": 8,
      "outputs": [
        {
          "output_type": "stream",
          "name": "stdout",
          "text": [
            "* * * \n",
            "* * * \n",
            "* * * \n"
          ]
        }
      ]
    },
    {
      "cell_type": "code",
      "source": [
        "for i in range(3):\n",
        "  for j in range(i,3):\n",
        "    print(\"*\",end=\" \")\n",
        "  print()"
      ],
      "metadata": {
        "colab": {
          "base_uri": "https://localhost:8080/"
        },
        "id": "hiowhj_GZkne",
        "outputId": "53096453-55e8-4613-b25f-49890aae5fff"
      },
      "execution_count": 9,
      "outputs": [
        {
          "output_type": "stream",
          "name": "stdout",
          "text": [
            "* * * \n",
            "* * \n",
            "* \n"
          ]
        }
      ]
    },
    {
      "cell_type": "code",
      "source": [
        "# WAP to print GCD of 2 numbers\n",
        "a = int(input())\n",
        "b = int(input())\n",
        "x = min(a,b)\n",
        "ans = 1\n",
        "for x in range(x,0,-1):\n",
        "  if(a%x==0 and b%x==0):\n",
        "    ans = x\n",
        "    break\n",
        "print(ans)"
      ],
      "metadata": {
        "colab": {
          "base_uri": "https://localhost:8080/"
        },
        "id": "YUf39jbIZuFs",
        "outputId": "1a62c05e-831a-4cf8-fbe3-a560f47f65f8"
      },
      "execution_count": 13,
      "outputs": [
        {
          "output_type": "stream",
          "name": "stdout",
          "text": [
            "6\n",
            "36\n",
            "6\n"
          ]
        }
      ]
    },
    {
      "cell_type": "code",
      "source": [
        "# LCM of two numbers\n",
        "a = int(input())\n",
        "b = int(input())\n",
        "x = max(a,b)\n",
        "while(True):\n",
        "  if(x%a==0 and x%b==0):\n",
        "    print(\"LCM is: \",x)\n",
        "    break\n",
        "  x+=1"
      ],
      "metadata": {
        "colab": {
          "base_uri": "https://localhost:8080/"
        },
        "id": "uDiE6q9zaQRP",
        "outputId": "d644a001-2509-42a1-b3c1-6322963e2f7b"
      },
      "execution_count": 15,
      "outputs": [
        {
          "output_type": "stream",
          "name": "stdout",
          "text": [
            "10\n",
            "20\n",
            "LCM is:  20\n"
          ]
        }
      ]
    }
  ]
}