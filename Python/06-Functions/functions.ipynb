{
  "nbformat": 4,
  "nbformat_minor": 0,
  "metadata": {
    "colab": {
      "provenance": []
    },
    "kernelspec": {
      "name": "python3",
      "display_name": "Python 3"
    },
    "language_info": {
      "name": "python"
    }
  },
  "cells": [
    {
      "cell_type": "code",
      "source": [
        "print(\"Hi! My name is Harsh.\")"
      ],
      "metadata": {
        "colab": {
          "base_uri": "https://localhost:8080/"
        },
        "id": "02Xnj0SnjyNT",
        "outputId": "f49beeae-1e05-42ea-e438-0e5b78fc1dba"
      },
      "execution_count": 2,
      "outputs": [
        {
          "output_type": "stream",
          "name": "stdout",
          "text": [
            "Hi! My name is Harsh.\n"
          ]
        }
      ]
    },
    {
      "cell_type": "code",
      "source": [
        "def call_harsh():\n",
        "  print(\"Hi! My name is Harsh.\")\n",
        "call_harsh()"
      ],
      "metadata": {
        "colab": {
          "base_uri": "https://localhost:8080/"
        },
        "id": "pFZjJ2HTkTMP",
        "outputId": "da8e3e29-bb12-48cd-aaa5-e0f8f05fe240"
      },
      "execution_count": 3,
      "outputs": [
        {
          "output_type": "stream",
          "name": "stdout",
          "text": [
            "Hi! My name is Harsh.\n"
          ]
        }
      ]
    },
    {
      "cell_type": "code",
      "source": [
        "for i in range(5):\n",
        "  call_harsh()"
      ],
      "metadata": {
        "colab": {
          "base_uri": "https://localhost:8080/"
        },
        "id": "YD9Gs2BIkZ5z",
        "outputId": "32300ecd-91c9-4623-9d86-82eec6e13084"
      },
      "execution_count": 4,
      "outputs": [
        {
          "output_type": "stream",
          "name": "stdout",
          "text": [
            "Hi! My name is Harsh.\n",
            "Hi! My name is Harsh.\n",
            "Hi! My name is Harsh.\n",
            "Hi! My name is Harsh.\n",
            "Hi! My name is Harsh.\n"
          ]
        }
      ]
    },
    {
      "cell_type": "code",
      "source": [
        "def add_numbers(a,b):\n",
        "  c = a+b\n",
        "  print(c)\n",
        "a = int(input())\n",
        "b = int(input())\n",
        "add_numbers(a,b)"
      ],
      "metadata": {
        "colab": {
          "base_uri": "https://localhost:8080/"
        },
        "id": "LBaQFyrIkevE",
        "outputId": "3ccd2363-68b1-42fa-bbf2-fb1db800e0ae"
      },
      "execution_count": 6,
      "outputs": [
        {
          "output_type": "stream",
          "name": "stdout",
          "text": [
            "1\n",
            "2\n",
            "3\n"
          ]
        }
      ]
    },
    {
      "cell_type": "code",
      "source": [
        "def do_something(a,b,c):\n",
        "  print(\"Function start\")\n",
        "  e = a+b+c\n",
        "  f = e*2\n",
        "  print(\"Function end\")\n",
        "  return f"
      ],
      "metadata": {
        "id": "DMeTUlaOkqNT"
      },
      "execution_count": 7,
      "outputs": []
    },
    {
      "cell_type": "code",
      "source": [
        "print(do_something(1,2,3))"
      ],
      "metadata": {
        "colab": {
          "base_uri": "https://localhost:8080/"
        },
        "id": "85eXXOYblKWU",
        "outputId": "04fa77b5-0e8e-4002-8b71-a16db9875943"
      },
      "execution_count": 8,
      "outputs": [
        {
          "output_type": "stream",
          "name": "stdout",
          "text": [
            "Function start\n",
            "Function end\n",
            "12\n"
          ]
        }
      ]
    },
    {
      "cell_type": "code",
      "source": [
        "def func():\n",
        "  return 1,2\n",
        "a,b = func()\n",
        "print(a,b)"
      ],
      "metadata": {
        "colab": {
          "base_uri": "https://localhost:8080/"
        },
        "id": "cCGrgd05lMUV",
        "outputId": "8fbfb0d9-2c04-4e54-b46b-dbadd4b7983b"
      },
      "execution_count": 9,
      "outputs": [
        {
          "output_type": "stream",
          "name": "stdout",
          "text": [
            "1 2\n"
          ]
        }
      ]
    },
    {
      "cell_type": "code",
      "source": [
        "def introduce_family(my_name,sibling_name,father_name,mother_name):\n",
        "  print(\"My name is\",my_name)\n",
        "  print(\"My sibling's name is\",sibling_name)\n",
        "  print(\"My father's name is\",father_name)"
      ],
      "metadata": {
        "id": "bCz9rBVHlrsS"
      },
      "execution_count": 10,
      "outputs": []
    },
    {
      "cell_type": "code",
      "source": [
        "introduce_family(my_name=\"Harsh\",father_name=\"Kuldeep\",mother_name=\"Babita\",sibling_name=\"Arvind\")"
      ],
      "metadata": {
        "colab": {
          "base_uri": "https://localhost:8080/"
        },
        "id": "bej3jiKImINg",
        "outputId": "aff86b90-e008-44ce-daba-c442b18d8f3a"
      },
      "execution_count": 11,
      "outputs": [
        {
          "output_type": "stream",
          "name": "stdout",
          "text": [
            "My name is Harsh\n",
            "My sibling's name is Arvind\n",
            "My father's name is Kuldeep\n"
          ]
        }
      ]
    },
    {
      "cell_type": "code",
      "source": [
        "def gcd(a,b):\n",
        "  while (b!=0):\n",
        "    a,b = b,a%b\n",
        "  return a\n",
        "x = gcd(48,180)\n",
        "print(x)"
      ],
      "metadata": {
        "colab": {
          "base_uri": "https://localhost:8080/"
        },
        "id": "n5nN2SNMmtGu",
        "outputId": "d2d1058f-96bf-42ec-8ea7-3ce578c9f422"
      },
      "execution_count": 12,
      "outputs": [
        {
          "output_type": "stream",
          "name": "stdout",
          "text": [
            "12\n"
          ]
        }
      ]
    },
    {
      "cell_type": "code",
      "source": [
        "def simple_interest(p,t,r=5):\n",
        "  interest = (p*r*t)/100\n",
        "  return interest\n",
        "si = simple_interest(500000,3,4.5)\n",
        "print(si)"
      ],
      "metadata": {
        "colab": {
          "base_uri": "https://localhost:8080/"
        },
        "id": "wWvjW09Jo0B5",
        "outputId": "c0ec5594-898f-4d2e-b994-851df0ab5897"
      },
      "execution_count": 13,
      "outputs": [
        {
          "output_type": "stream",
          "name": "stdout",
          "text": [
            "67500.0\n"
          ]
        }
      ]
    },
    {
      "cell_type": "code",
      "source": [
        "c = 30\n",
        "def func():\n",
        "  c = 5+6\n",
        "  return c\n",
        "c = func()\n",
        "print(c)"
      ],
      "metadata": {
        "colab": {
          "base_uri": "https://localhost:8080/"
        },
        "id": "ECz7_HjOthXl",
        "outputId": "adeb9a79-5470-46ae-d041-500f1cd8d74c"
      },
      "execution_count": 14,
      "outputs": [
        {
          "output_type": "stream",
          "name": "stdout",
          "text": [
            "11\n"
          ]
        }
      ]
    },
    {
      "cell_type": "code",
      "source": [
        "def func(x):\n",
        "  return x+10"
      ],
      "metadata": {
        "id": "Yw-o3rziuT-E"
      },
      "execution_count": 15,
      "outputs": []
    },
    {
      "cell_type": "code",
      "source": [
        "func(15)"
      ],
      "metadata": {
        "colab": {
          "base_uri": "https://localhost:8080/"
        },
        "id": "HHW1D0yMuYLz",
        "outputId": "e1b28966-7d97-44e7-f199-00bb4fa6689a"
      },
      "execution_count": 16,
      "outputs": [
        {
          "output_type": "execute_result",
          "data": {
            "text/plain": [
              "25"
            ]
          },
          "metadata": {},
          "execution_count": 16
        }
      ]
    },
    {
      "cell_type": "code",
      "source": [
        "(lambda x:x+10)(5)"
      ],
      "metadata": {
        "colab": {
          "base_uri": "https://localhost:8080/"
        },
        "id": "Pz0dlmDJuZtx",
        "outputId": "0bdbb3ab-7ee6-4ce7-96f1-f9d3ac73fb7e"
      },
      "execution_count": 17,
      "outputs": [
        {
          "output_type": "execute_result",
          "data": {
            "text/plain": [
              "15"
            ]
          },
          "metadata": {},
          "execution_count": 17
        }
      ]
    },
    {
      "cell_type": "code",
      "source": [
        "random = (lambda x:x+10)\n",
        "random(15)"
      ],
      "metadata": {
        "colab": {
          "base_uri": "https://localhost:8080/"
        },
        "id": "JCt-7o7due3C",
        "outputId": "228ae6c0-7b06-4e63-c24f-8a9fbd76d936"
      },
      "execution_count": 18,
      "outputs": [
        {
          "output_type": "execute_result",
          "data": {
            "text/plain": [
              "25"
            ]
          },
          "metadata": {},
          "execution_count": 18
        }
      ]
    }
  ]
}