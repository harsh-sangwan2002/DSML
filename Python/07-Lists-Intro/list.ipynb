{
  "cells": [
    {
      "cell_type": "code",
      "execution_count": null,
      "metadata": {
        "id": "gBP-xTo_RX9c"
      },
      "outputs": [],
      "source": [
        "virat_runs = [67,54,66,33,77,88,99,102]"
      ]
    },
    {
      "cell_type": "code",
      "execution_count": 13,
      "metadata": {
        "id": "PXKFlj5JV2h1"
      },
      "outputs": [],
      "source": [
        "random = [4,4.5,'suraaj',True]"
      ]
    },
    {
      "cell_type": "code",
      "execution_count": 4,
      "metadata": {
        "colab": {
          "base_uri": "https://localhost:8080/"
        },
        "id": "vsR0pfFuV9C2",
        "outputId": "9a0c21bc-73d2-4b73-92a8-98ab80a4b2a9"
      },
      "outputs": [
        {
          "data": {
            "text/plain": [
              "[67, 54, 66, 33, 77, 88, 99, 102]"
            ]
          },
          "execution_count": 4,
          "metadata": {},
          "output_type": "execute_result"
        }
      ],
      "source": [
        "virat_runs"
      ]
    },
    {
      "cell_type": "code",
      "execution_count": 5,
      "metadata": {
        "colab": {
          "base_uri": "https://localhost:8080/"
        },
        "id": "__sPsonwV-Ay",
        "outputId": "d9efa395-5e36-4d39-8ca0-9d26ddc9487f"
      },
      "outputs": [
        {
          "data": {
            "text/plain": [
              "[4, 4.5, 'suraaj', True]"
            ]
          },
          "execution_count": 5,
          "metadata": {},
          "output_type": "execute_result"
        }
      ],
      "source": [
        "random"
      ]
    },
    {
      "cell_type": "code",
      "execution_count": 6,
      "metadata": {
        "colab": {
          "base_uri": "https://localhost:8080/"
        },
        "id": "5WHOMGtQV-cl",
        "outputId": "b24e8b06-2dd8-45e5-ea7f-935635cf7716"
      },
      "outputs": [
        {
          "data": {
            "text/plain": [
              "4"
            ]
          },
          "execution_count": 6,
          "metadata": {},
          "output_type": "execute_result"
        }
      ],
      "source": [
        "# First element in the list\n",
        "random[0]"
      ]
    },
    {
      "cell_type": "code",
      "execution_count": 7,
      "metadata": {
        "colab": {
          "base_uri": "https://localhost:8080/"
        },
        "id": "__jC-hxEV_UX",
        "outputId": "bc100ee4-72ea-4ce3-f664-185a5a4acc83"
      },
      "outputs": [
        {
          "data": {
            "text/plain": [
              "4"
            ]
          },
          "execution_count": 7,
          "metadata": {},
          "output_type": "execute_result"
        }
      ],
      "source": [
        "# Length of the list\n",
        "len(random)"
      ]
    },
    {
      "cell_type": "code",
      "execution_count": 8,
      "metadata": {
        "colab": {
          "base_uri": "https://localhost:8080/"
        },
        "id": "LIjGyUh-WG1F",
        "outputId": "afda2771-3abb-4d6c-efbe-c0386f2fe16b"
      },
      "outputs": [
        {
          "data": {
            "text/plain": [
              "4"
            ]
          },
          "execution_count": 8,
          "metadata": {},
          "output_type": "execute_result"
        }
      ],
      "source": [
        "random[-len(random)]"
      ]
    },
    {
      "cell_type": "code",
      "execution_count": 9,
      "metadata": {
        "colab": {
          "base_uri": "https://localhost:8080/"
        },
        "id": "XK5_mvD7WK9Z",
        "outputId": "6213c153-a125-4a2c-808e-67d9d30c3c56"
      },
      "outputs": [
        {
          "data": {
            "text/plain": [
              "[4, 4.5, 'suraaj', True, 44]"
            ]
          },
          "execution_count": 9,
          "metadata": {},
          "output_type": "execute_result"
        }
      ],
      "source": [
        "# Add more elements in the list\n",
        "random.append(44)\n",
        "random"
      ]
    },
    {
      "cell_type": "code",
      "execution_count": 10,
      "metadata": {
        "colab": {
          "base_uri": "https://localhost:8080/"
        },
        "id": "KONnbBttWdGG",
        "outputId": "e588e1fb-a759-49c1-eea9-46f5288995cd"
      },
      "outputs": [
        {
          "data": {
            "text/plain": [
              "[4, 4.5, 'hello', 'suraaj', True, 44]"
            ]
          },
          "execution_count": 10,
          "metadata": {},
          "output_type": "execute_result"
        }
      ],
      "source": [
        "random.insert(2,'hello')\n",
        "random"
      ]
    },
    {
      "cell_type": "code",
      "execution_count": 14,
      "metadata": {
        "colab": {
          "base_uri": "https://localhost:8080/"
        },
        "id": "q5Gq9IKFWiCY",
        "outputId": "47811039-7703-4457-f6cd-93af4f1bbd88"
      },
      "outputs": [
        {
          "data": {
            "text/plain": [
              "[4, 4.5, 'suraaj', True, 101, 200, 201]"
            ]
          },
          "execution_count": 14,
          "metadata": {},
          "output_type": "execute_result"
        }
      ],
      "source": [
        "new_runs = [101,200,201]\n",
        "random.extend(new_runs)\n",
        "random"
      ]
    },
    {
      "cell_type": "code",
      "execution_count": 15,
      "metadata": {
        "colab": {
          "base_uri": "https://localhost:8080/"
        },
        "id": "l_LciPSQX8pN",
        "outputId": "1b29b4ed-39c8-4e84-9faa-0318d599f903"
      },
      "outputs": [
        {
          "data": {
            "text/plain": [
              "[4, 4.5, 'suraaj', True, 101, 200, 201]"
            ]
          },
          "execution_count": 15,
          "metadata": {},
          "output_type": "execute_result"
        }
      ],
      "source": [
        "random + new_runs\n",
        "random"
      ]
    },
    {
      "cell_type": "code",
      "execution_count": 16,
      "metadata": {
        "colab": {
          "base_uri": "https://localhost:8080/"
        },
        "id": "H4QStHEjYVob",
        "outputId": "d97a4e79-399e-4f49-ae0e-d52483ab866b"
      },
      "outputs": [
        {
          "data": {
            "text/plain": [
              "[4, 4.5, 'suraaj', True, 101, 200]"
            ]
          },
          "execution_count": 16,
          "metadata": {},
          "output_type": "execute_result"
        }
      ],
      "source": [
        "# Deletion methods\n",
        "random.pop()\n",
        "random"
      ]
    },
    {
      "cell_type": "code",
      "execution_count": 17,
      "metadata": {
        "colab": {
          "base_uri": "https://localhost:8080/"
        },
        "id": "QvXbDAbfYjb-",
        "outputId": "2ee1748a-ae2a-4086-ae82-5cd5e425ef9d"
      },
      "outputs": [
        {
          "data": {
            "text/plain": [
              "[4, 'suraaj', True, 101, 200]"
            ]
          },
          "execution_count": 17,
          "metadata": {},
          "output_type": "execute_result"
        }
      ],
      "source": [
        "random.pop(1)\n",
        "random"
      ]
    },
    {
      "cell_type": "code",
      "execution_count": 18,
      "metadata": {
        "colab": {
          "base_uri": "https://localhost:8080/"
        },
        "id": "78BdMJ0zYlSp",
        "outputId": "ae24136b-802c-4795-ea36-592e8f75f369"
      },
      "outputs": [
        {
          "data": {
            "text/plain": [
              "[1, 1, 2, 3, 2, 2, 4, 5, 6]"
            ]
          },
          "execution_count": 18,
          "metadata": {},
          "output_type": "execute_result"
        }
      ],
      "source": [
        "x = [1,2,1,2,3,2,2,4,5,6]\n",
        "x.remove(2)\n",
        "x"
      ]
    },
    {
      "cell_type": "code",
      "execution_count": 19,
      "metadata": {
        "colab": {
          "base_uri": "https://localhost:8080/"
        },
        "id": "szh_ITgLYupY",
        "outputId": "878dfbb0-ed96-4b84-e396-4f46ab38b22b"
      },
      "outputs": [
        {
          "data": {
            "text/plain": [
              "3"
            ]
          },
          "execution_count": 19,
          "metadata": {},
          "output_type": "execute_result"
        }
      ],
      "source": [
        "# Count of occurrences\n",
        "x.count(2)"
      ]
    },
    {
      "cell_type": "code",
      "execution_count": 20,
      "metadata": {
        "colab": {
          "base_uri": "https://localhost:8080/"
        },
        "id": "nk8OdTfRY0-v",
        "outputId": "8e34fdb9-ab3e-4a84-fd3d-25ace442f88e"
      },
      "outputs": [
        {
          "data": {
            "text/plain": [
              "True"
            ]
          },
          "execution_count": 20,
          "metadata": {},
          "output_type": "execute_result"
        }
      ],
      "source": [
        "5 in x"
      ]
    },
    {
      "cell_type": "code",
      "execution_count": 21,
      "metadata": {
        "colab": {
          "base_uri": "https://localhost:8080/"
        },
        "id": "PMNMV-LjY6ft",
        "outputId": "9c20ceed-9729-4272-9beb-e2e589534312"
      },
      "outputs": [
        {
          "name": "stdout",
          "output_type": "stream",
          "text": [
            "1\n",
            "1\n",
            "2\n",
            "3\n",
            "2\n",
            "2\n",
            "4\n",
            "5\n",
            "6\n"
          ]
        }
      ],
      "source": [
        "for i in x:\n",
        "  print(i)"
      ]
    },
    {
      "cell_type": "code",
      "execution_count": 22,
      "metadata": {
        "colab": {
          "base_uri": "https://localhost:8080/"
        },
        "id": "f9n86Km5ZDnJ",
        "outputId": "a373a756-c621-430e-cf1d-d825b2c77282"
      },
      "outputs": [
        {
          "name": "stdout",
          "output_type": "stream",
          "text": [
            "2\n",
            "2\n",
            "2\n",
            "4\n",
            "6\n"
          ]
        }
      ],
      "source": [
        "# Print only even items\n",
        "for i in x:\n",
        "  if i % 2 == 0:\n",
        "    print(i)"
      ]
    },
    {
      "cell_type": "code",
      "execution_count": 23,
      "metadata": {
        "colab": {
          "base_uri": "https://localhost:8080/"
        },
        "id": "EpG4W2yuZp6Q",
        "outputId": "5bd10842-18de-4168-b6a1-bf8e0b3ab4d8"
      },
      "outputs": [
        {
          "name": "stdout",
          "output_type": "stream",
          "text": [
            "1\n",
            "2\n",
            "2\n",
            "4\n",
            "6\n"
          ]
        }
      ],
      "source": [
        "# Print only even indexed items\n",
        "for i in range(len(x)):\n",
        "  if i%2 == 0:\n",
        "    print(x[i])"
      ]
    },
    {
      "cell_type": "code",
      "execution_count": 25,
      "metadata": {
        "colab": {
          "base_uri": "https://localhost:8080/"
        },
        "id": "xoVGddbuZwvw",
        "outputId": "4cd37f71-f997-4a63-f6ff-dd091e8d7551"
      },
      "outputs": [
        {
          "data": {
            "text/plain": [
              "[1, 1, 3, 4, 5, 6]"
            ]
          },
          "execution_count": 25,
          "metadata": {},
          "output_type": "execute_result"
        }
      ],
      "source": [
        "# Remove every occurrence of 2\n",
        "y = []\n",
        "for i in x:\n",
        "  if i!=2:\n",
        "    y.append(i)\n",
        "y"
      ]
    },
    {
      "cell_type": "code",
      "execution_count": 26,
      "metadata": {
        "colab": {
          "base_uri": "https://localhost:8080/"
        },
        "id": "wntUjCOLZ61-",
        "outputId": "dfc5a277-8772-48a5-c496-58fc57e547cc"
      },
      "outputs": [
        {
          "data": {
            "text/plain": [
              "26"
            ]
          },
          "execution_count": 26,
          "metadata": {},
          "output_type": "execute_result"
        }
      ],
      "source": [
        "sum(x)"
      ]
    },
    {
      "cell_type": "code",
      "execution_count": 29,
      "metadata": {
        "colab": {
          "base_uri": "https://localhost:8080/"
        },
        "id": "uBk3aTcYaGJg",
        "outputId": "207cb68f-65ed-411a-f3ea-0ad4de58c797"
      },
      "outputs": [
        {
          "data": {
            "text/plain": [
              "6"
            ]
          },
          "execution_count": 29,
          "metadata": {},
          "output_type": "execute_result"
        }
      ],
      "source": [
        "max(x)"
      ]
    },
    {
      "cell_type": "code",
      "execution_count": 30,
      "metadata": {
        "colab": {
          "base_uri": "https://localhost:8080/"
        },
        "id": "6JkYGvGfaIRh",
        "outputId": "171382af-b967-4da4-c0be-ce383b7aad3a"
      },
      "outputs": [
        {
          "data": {
            "text/plain": [
              "6"
            ]
          },
          "execution_count": 30,
          "metadata": {},
          "output_type": "execute_result"
        }
      ],
      "source": [
        "# Find max in list\n",
        "max_val = x[0]\n",
        "for i in x:\n",
        "  if i > max_val:\n",
        "    max_val = i\n",
        "max_val"
      ]
    },
    {
      "cell_type": "code",
      "execution_count": 31,
      "metadata": {
        "colab": {
          "base_uri": "https://localhost:8080/"
        },
        "id": "78eUJsCUaVHx",
        "outputId": "0b996c8a-6727-4bc2-abf3-20d5701b9835"
      },
      "outputs": [
        {
          "data": {
            "text/plain": [
              "1"
            ]
          },
          "execution_count": 31,
          "metadata": {},
          "output_type": "execute_result"
        }
      ],
      "source": [
        "# Find min in list\n",
        "min_val = x[0]\n",
        "for i in x:\n",
        "  if i < min_val:\n",
        "    min_val = i\n",
        "min_val"
      ]
    },
    {
      "cell_type": "code",
      "execution_count": 32,
      "metadata": {
        "colab": {
          "base_uri": "https://localhost:8080/"
        },
        "id": "l36K-W2QaWn6",
        "outputId": "b67eeef2-ed7e-49b6-bcbd-967a0c93d139"
      },
      "outputs": [
        {
          "name": "stdout",
          "output_type": "stream",
          "text": [
            "Enter the element: 1\n",
            "Enter the element: 2\n",
            "Enter the element: 3\n",
            "Enter the element: 4\n",
            "Enter the element: 5\n",
            "Enter the element: 6\n",
            "Enter the element: 7\n"
          ]
        },
        {
          "data": {
            "text/plain": [
              "[1, 2, 3, 4, 5, 6, 7]"
            ]
          },
          "execution_count": 32,
          "metadata": {},
          "output_type": "execute_result"
        }
      ],
      "source": [
        "# Taking list as input\n",
        "y = []\n",
        "for i in range(7):\n",
        "  x = int(input(\"Enter the element: \"))\n",
        "  y.append(x)\n",
        "y"
      ]
    },
    {
      "cell_type": "code",
      "execution_count": null,
      "metadata": {
        "id": "a9NB_K8baxp-"
      },
      "outputs": [],
      "source": []
    }
  ],
  "metadata": {
    "colab": {
      "provenance": []
    },
    "kernelspec": {
      "display_name": "Python 3",
      "name": "python3"
    },
    "language_info": {
      "name": "python"
    }
  },
  "nbformat": 4,
  "nbformat_minor": 0
}
