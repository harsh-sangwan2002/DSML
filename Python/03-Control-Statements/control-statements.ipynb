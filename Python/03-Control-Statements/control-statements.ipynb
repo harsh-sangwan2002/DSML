{
  "cells": [
    {
      "cell_type": "code",
      "execution_count": 1,
      "metadata": {
        "colab": {
          "base_uri": "https://localhost:8080/"
        },
        "id": "6hJI645rMi4N",
        "outputId": "09a1b06f-bcaf-46df-edcb-55f0f7097b71"
      },
      "outputs": [
        {
          "data": {
            "text/plain": [
              "40"
            ]
          },
          "execution_count": 1,
          "metadata": {},
          "output_type": "execute_result"
        }
      ],
      "source": [
        "10 + 30"
      ]
    },
    {
      "cell_type": "code",
      "execution_count": 2,
      "metadata": {
        "colab": {
          "base_uri": "https://localhost:8080/"
        },
        "id": "8PdLaZweOWkT",
        "outputId": "d58414e2-23cd-471d-a482-3eb28055affd"
      },
      "outputs": [
        {
          "name": "stdout",
          "output_type": "stream",
          "text": [
            "x is 100\n"
          ]
        }
      ],
      "source": [
        "x = 100\n",
        "if x==100:\n",
        "  print(\"x is 100\")"
      ]
    },
    {
      "cell_type": "code",
      "execution_count": 3,
      "metadata": {
        "id": "5nWlXvbVOlht"
      },
      "outputs": [],
      "source": [
        "if 100 > 120:\n",
        "  print(\"idiot\")\n",
        "  print(\"No, you are an idiot\")"
      ]
    },
    {
      "cell_type": "code",
      "execution_count": 4,
      "metadata": {
        "colab": {
          "base_uri": "https://localhost:8080/"
        },
        "id": "FexbPRp9Ouyq",
        "outputId": "10392958-057c-4630-b116-04480e22bb3c"
      },
      "outputs": [
        {
          "name": "stdout",
          "output_type": "stream",
          "text": [
            "No, you are an idiot\n"
          ]
        }
      ],
      "source": [
        "if 100 > 120:\n",
        "  print(\"idiot\")\n",
        "print(\"No, you are an idiot\")"
      ]
    },
    {
      "cell_type": "code",
      "execution_count": 5,
      "metadata": {
        "colab": {
          "base_uri": "https://localhost:8080/"
        },
        "id": "dD6X3AHEO3x-",
        "outputId": "fcc8fd8c-b991-420e-a6d5-2280dac639b0"
      },
      "outputs": [
        {
          "name": "stdout",
          "output_type": "stream",
          "text": [
            "1\n",
            "2\n",
            "3\n"
          ]
        }
      ],
      "source": [
        "if 56 > 50:\n",
        "  print(\"1\")\n",
        "  print(\"2\")\n",
        "print(\"3\")"
      ]
    },
    {
      "cell_type": "code",
      "execution_count": 6,
      "metadata": {
        "colab": {
          "base_uri": "https://localhost:8080/"
        },
        "id": "H2fDPNxaPID_",
        "outputId": "2c904c23-bc33-40af-9a50-90f4d684a775"
      },
      "outputs": [
        {
          "ename": "ValueError",
          "evalue": "invalid literal for int() with base 10: ''",
          "output_type": "error",
          "traceback": [
            "\u001b[31m---------------------------------------------------------------------------\u001b[39m",
            "\u001b[31mValueError\u001b[39m                                Traceback (most recent call last)",
            "\u001b[36mCell\u001b[39m\u001b[36m \u001b[39m\u001b[32mIn[6]\u001b[39m\u001b[32m, line 1\u001b[39m\n\u001b[32m----> \u001b[39m\u001b[32m1\u001b[39m n = \u001b[38;5;28;43mint\u001b[39;49m\u001b[43m(\u001b[49m\u001b[38;5;28;43minput\u001b[39;49m\u001b[43m(\u001b[49m\u001b[43m)\u001b[49m\u001b[43m)\u001b[49m\n\u001b[32m      2\u001b[39m res = n**\u001b[32m2\u001b[39m\n\u001b[32m      4\u001b[39m \u001b[38;5;28;01mif\u001b[39;00m res > \u001b[32m25\u001b[39m:\n",
            "\u001b[31mValueError\u001b[39m: invalid literal for int() with base 10: ''"
          ]
        }
      ],
      "source": [
        "n = int(input())\n",
        "res = n**2\n",
        "\n",
        "if res > 25:\n",
        "  res += 20\n",
        "else:\n",
        "  res += 15\n",
        "\n",
        "print(res)"
      ]
    },
    {
      "cell_type": "code",
      "execution_count": null,
      "metadata": {
        "colab": {
          "base_uri": "https://localhost:8080/"
        },
        "id": "si-GxHzcPVsu",
        "outputId": "22e66db8-08da-45a6-9cb9-aaaaf211fffc"
      },
      "outputs": [],
      "source": [
        "# Password checker\n",
        "original_pass = \"pythonclass\"\n",
        "input_pass = input()\n",
        "\n",
        "if input_pass == original_pass:\n",
        "  print(\"Welcome\")\n",
        "else:\n",
        "  print(\"Wrong password\")"
      ]
    },
    {
      "cell_type": "code",
      "execution_count": null,
      "metadata": {
        "colab": {
          "base_uri": "https://localhost:8080/"
        },
        "id": "A8dwqDqJPrJN",
        "outputId": "77a5491f-071d-45da-af95-faae0328e448"
      },
      "outputs": [],
      "source": [
        "time = 20\n",
        "if time > 9 and time <= 12:\n",
        "  print(\"Good morning\")\n",
        "else:\n",
        "  if time > 12 and time <= 17:\n",
        "    print(\"Good afternoon\")\n",
        "  else:\n",
        "    if time > 17 and time <= 24 :\n",
        "      print(\"Good night\")\n",
        "    else:\n",
        "      print(\"So Jao!\")"
      ]
    },
    {
      "cell_type": "code",
      "execution_count": null,
      "metadata": {
        "id": "NGUc1p9XP8tQ"
      },
      "outputs": [],
      "source": []
    }
  ],
  "metadata": {
    "colab": {
      "provenance": []
    },
    "kernelspec": {
      "display_name": "Python 3",
      "name": "python3"
    },
    "language_info": {
      "codemirror_mode": {
        "name": "ipython",
        "version": 3
      },
      "file_extension": ".py",
      "mimetype": "text/x-python",
      "name": "python",
      "nbconvert_exporter": "python",
      "pygments_lexer": "ipython3",
      "version": "3.13.5"
    }
  },
  "nbformat": 4,
  "nbformat_minor": 0
}
